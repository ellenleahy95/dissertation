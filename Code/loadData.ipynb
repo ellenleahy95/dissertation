{
 "cells": [
  {
   "cell_type": "code",
   "execution_count": 1,
   "id": "95010937-af2b-46ba-81b9-56fc2b8ed9ed",
   "metadata": {},
   "outputs": [],
   "source": [
    "import json\n",
    "import os\n"
   ]
  },
  {
   "cell_type": "code",
   "execution_count": 10,
   "id": "e2b355e3",
   "metadata": {},
   "outputs": [],
   "source": [
    "teams_dict = {}\n",
    "with open(\"../Data/teams.json\") as f:\n",
    "        teams = json.load(f)\n",
    "        for team in teams:\n",
    "            if team['type'] == 'club':\n",
    "                teams_dict[team['wyId']] = team['name']\n"
   ]
  },
  {
   "cell_type": "code",
   "execution_count": 11,
   "id": "69d7d79b",
   "metadata": {},
   "outputs": [],
   "source": [
    "players_pos_dict = {}\n",
    "with open(\"../Data/players.json\") as f:\n",
    "    players = json.load(f)\n",
    "    for p in players:\n",
    "        players_pos_dict[p['wyId']] = p['role']['code2']\n",
    "\n"
   ]
  },
  {
   "cell_type": "code",
   "execution_count": 12,
   "id": "1eabbbbb",
   "metadata": {
    "scrolled": true
   },
   "outputs": [],
   "source": [
    "matchesDict = {}\n",
    "\n",
    "with open(\"../Data/matches_England.json\") as f:\n",
    "    matches = json.load(f)\n",
    "    for m in matches:\n",
    "        teams = list(m['teamsData'].keys())\n",
    "        matchesDict[m['wyId']] = list(m['teamsData'].keys())\n"
   ]
  },
  {
   "cell_type": "code",
   "execution_count": 13,
   "id": "66a43293-8b10-4b4b-a76a-27dbdcb5d85a",
   "metadata": {},
   "outputs": [],
   "source": [
    "regionsDict = {}\n",
    "\n",
    "regionsDict[1] = [16.5, 1800/61]\n",
    "regionsDict[2] = [16.5, 4300/61]\n",
    "regionsDict[3] = [16.5, 100]\n",
    "regionsDict[4] = [33.25, 1800/61]\n",
    "regionsDict[5] = [33.25, 4300/61]\n",
    "regionsDict[6] = [33.25, 100]\n",
    "regionsDict[7] = [50, 1800/61]\n",
    "regionsDict[8] = [50, 4300/61]\n",
    "regionsDict[9] = [50, 100]\n",
    "regionsDict[10] = [66.75, 1800/61]\n",
    "regionsDict[11] = [66.75, 4300/61]\n",
    "regionsDict[12] = [66.75, 100]\n",
    "regionsDict[13] = [83.5, 1800/61]\n",
    "regionsDict[14] = [83.5, 4300/61]\n",
    "regionsDict[15] = [83.5, 100]\n",
    "regionsDict[16] = [100, 1800/61]\n",
    "regionsDict[17] = [100, 4300/61]\n",
    "regionsDict[18] = [100, 100]\n"
   ]
  },
  {
   "cell_type": "code",
   "execution_count": 72,
   "id": "c2424998",
   "metadata": {},
   "outputs": [],
   "source": [
    "goals = {}\n",
    "e = 0\n",
    "with open(\"../Data/events_England.json\") as f:\n",
    "    events = json.load(f)\n",
    "    while e < len(events):\n",
    "        if {'id': 101} in events[e]['tags'] and events[e]['subEventId'] in [100, 91]:\n",
    "            team = events[e]['teamId']\n",
    "            if team not in goals:\n",
    "                goals[team] = []\n",
    "            tempDict = {}\n",
    "            tempDict['matchId'] = events[e]['matchId']\n",
    "            tempDict['teamId'] = team\n",
    "            tempDict['teamName'] = teams_dict[team]\n",
    "            tempDict['playerId'] = events[e]['playerId']\n",
    "            tempDict['position'] = events[e]['positions'][0]\n",
    "            for r in range(1, 19):\n",
    "                if (tempDict['position']['x'] <= regionsDict[r][0]) & (tempDict['position']['y'] <= regionsDict[r][1]):\n",
    "                    tempDict['region'] = r\n",
    "                    break\n",
    "            tempDict['playingPos'] = players_pos_dict[events[e]['playerId']]\n",
    "            if events[e]['teamId'] == int(matchesDict[events[e]['matchId']][0]):\n",
    "                tempDict['opponentId'] = matchesDict[events[e]['matchId']][1]\n",
    "            else:\n",
    "                tempDict['opponentId'] = matchesDict[events[e]['matchId']][0]\n",
    "            tempDict['oppenentName'] = teams_dict[int(tempDict['opponentId'])]\n",
    "            tempDict['id'] = events[e]['id']\n",
    "            p_index = e-1\n",
    "            evnt = events[p_index]['eventName']\n",
    "            passes = []\n",
    "            while evnt == \"Pass\":\n",
    "                pass_dict = {}\n",
    "                pass_dict['position'] = events[p_index]['positions'][0]\n",
    "                for r in range(1, 19):\n",
    "                    if (pass_dict['position']['x'] <= regionsDict[r][0]) & (pass_dict['position']['y'] <= regionsDict[r][1]):\n",
    "                        pass_dict['region'] = r\n",
    "                        break\n",
    "                pass_dict['playerId'] = events[p_index]['playerId']\n",
    "                pass_dict['playingPos'] = players_pos_dict[events[p_index]['playerId']]\n",
    "                p_index -= 1\n",
    "                evnt = events[p_index]['eventName']\n",
    "                passes.append(pass_dict)\n",
    "            tempDict['passes'] = passes\n",
    "            goals[team].append(tempDict)\n",
    "            e += 1\n",
    "        e += 1\n",
    "                "
   ]
  },
  {
   "cell_type": "code",
   "execution_count": 73,
   "id": "8738a389-8b7b-4663-9744-5744912bb99c",
   "metadata": {},
   "outputs": [],
   "source": [
    "goals_per_team = {}\n",
    "for k, v in goals.items():\n",
    "    passes = 0\n",
    "    for goal in v:\n",
    "        passes += len(goal['passes'])\n",
    "    goals_per_team[k] = [len(v), passes/len(v)]"
   ]
  },
  {
   "cell_type": "code",
   "execution_count": 74,
   "id": "11ef4096-df75-40ce-a801-6511e14f4618",
   "metadata": {},
   "outputs": [],
   "source": [
    "total_goals = 0\n",
    "for team in goals:\n",
    "    total_goals += len(goals[team])"
   ]
  },
  {
   "cell_type": "code",
   "execution_count": 75,
   "id": "ece78748-0600-47e4-8555-08ea0db74077",
   "metadata": {},
   "outputs": [
    {
     "data": {
      "text/plain": [
       "932"
      ]
     },
     "execution_count": 75,
     "metadata": {},
     "output_type": "execute_result"
    }
   ],
   "source": [
    "total_goals"
   ]
  },
  {
   "cell_type": "code",
   "execution_count": 76,
   "id": "dbdd8c09-bbbe-44e3-9f6b-fa3b22896f83",
   "metadata": {
    "scrolled": true
   },
   "outputs": [],
   "source": [
    "for k, v in goals.items():\n",
    "    v = [x for x in v if len(x['passes']) > 1]\n",
    "    len_network = 0\n",
    "    for g in v:\n",
    "        len_network += len(g['passes'])\n",
    "    goals[k] = v"
   ]
  },
  {
   "cell_type": "code",
   "execution_count": 77,
   "id": "d10cc507-ef69-4821-b4a9-e5fe4c8011f4",
   "metadata": {},
   "outputs": [],
   "source": [
    "total_goals = 0\n",
    "for team in goals:\n",
    "    total_goals += len(goals[team])"
   ]
  },
  {
   "cell_type": "code",
   "execution_count": 78,
   "id": "2103c020-a10b-41d5-ba55-256d9cdd56de",
   "metadata": {},
   "outputs": [
    {
     "data": {
      "text/plain": [
       "239"
      ]
     },
     "execution_count": 78,
     "metadata": {},
     "output_type": "execute_result"
    }
   ],
   "source": [
    "total_goals"
   ]
  },
  {
   "cell_type": "code",
   "execution_count": 79,
   "id": "58711789-0bd5-4eef-902f-0322fd269570",
   "metadata": {},
   "outputs": [],
   "source": [
    "goals_per_team_filtered = {}\n",
    "for k, v in goals.items():\n",
    "    passes = 0\n",
    "    for goal in v:\n",
    "        passes += len(goal['passes'])\n",
    "    goals_per_team_filtered[k] = [len(v), passes/len(v)]"
   ]
  },
  {
   "cell_type": "code",
   "execution_count": 81,
   "id": "1a7274ff-ab3a-4c76-a85b-aa9b670d131d",
   "metadata": {},
   "outputs": [
    {
     "data": {
      "text/plain": [
       "{1609: [69, 2.3333333333333335],\n",
       " 1631: [50, 0.98],\n",
       " 1625: [95, 2.336842105263158],\n",
       " 1646: [34, 1.088235294117647],\n",
       " 1610: [56, 1.1607142857142858],\n",
       " 1673: [24, 1.4583333333333333],\n",
       " 1623: [37, 0.8378378378378378],\n",
       " 1611: [65, 1.2923076923076924],\n",
       " 1624: [68, 1.161764705882353],\n",
       " 1644: [40, 1.525],\n",
       " 1612: [78, 1.4871794871794872],\n",
       " 1627: [30, 0.7666666666666667],\n",
       " 1639: [34, 0.9411764705882353],\n",
       " 1633: [46, 0.782608695652174],\n",
       " 1659: [43, 1.2790697674418605],\n",
       " 10531: [27, 0.7407407407407407],\n",
       " 1613: [37, 1.162162162162162],\n",
       " 1651: [30, 1.4],\n",
       " 1619: [33, 0.8181818181818182],\n",
       " 1628: [36, 1.4166666666666667]}"
      ]
     },
     "execution_count": 81,
     "metadata": {},
     "output_type": "execute_result"
    }
   ],
   "source": [
    "goals_per_team"
   ]
  },
  {
   "cell_type": "code",
   "execution_count": 80,
   "id": "6a02cb53-7476-4ab1-945b-fdf3cf9c72bc",
   "metadata": {},
   "outputs": [
    {
     "data": {
      "text/plain": [
       "{1609: [22, 6.409090909090909],\n",
       " 1631: [11, 3.4545454545454546],\n",
       " 1625: [41, 5.0],\n",
       " 1646: [8, 3.75],\n",
       " 1610: [11, 5.090909090909091],\n",
       " 1673: [8, 3.875],\n",
       " 1623: [8, 2.75],\n",
       " 1611: [16, 4.1875],\n",
       " 1624: [18, 3.7222222222222223],\n",
       " 1644: [8, 6.625],\n",
       " 1612: [23, 4.434782608695652],\n",
       " 1627: [5, 3.6],\n",
       " 1639: [6, 4.333333333333333],\n",
       " 1633: [9, 3.3333333333333335],\n",
       " 1659: [10, 5.0],\n",
       " 10531: [4, 4.0],\n",
       " 1613: [8, 4.375],\n",
       " 1651: [6, 6.333333333333333],\n",
       " 1619: [7, 2.7142857142857144],\n",
       " 1628: [10, 4.4]}"
      ]
     },
     "execution_count": 80,
     "metadata": {},
     "output_type": "execute_result"
    }
   ],
   "source": [
    "goals_per_team_filtered"
   ]
  },
  {
   "cell_type": "code",
   "execution_count": 82,
   "id": "758b928a",
   "metadata": {},
   "outputs": [],
   "source": [
    "with open('../Data/goals.json', 'w') as f:\n",
    "    json.dump(goals, f)"
   ]
  },
  {
   "cell_type": "code",
   "execution_count": null,
   "id": "c713c64a",
   "metadata": {},
   "outputs": [],
   "source": []
  }
 ],
 "metadata": {
  "kernelspec": {
   "display_name": "Python 3 (ipykernel)",
   "language": "python",
   "name": "python3"
  },
  "language_info": {
   "codemirror_mode": {
    "name": "ipython",
    "version": 3
   },
   "file_extension": ".py",
   "mimetype": "text/x-python",
   "name": "python",
   "nbconvert_exporter": "python",
   "pygments_lexer": "ipython3",
   "version": "3.11.8"
  }
 },
 "nbformat": 4,
 "nbformat_minor": 5
}
